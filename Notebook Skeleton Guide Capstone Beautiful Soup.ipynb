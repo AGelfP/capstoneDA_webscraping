{
 "cells": [
  {
   "cell_type": "markdown",
   "metadata": {},
   "source": [
    "# Capstone Webscrapping using BeautifulSoup\n",
    "\n",
    "Notebook ini adalah kerangka untuk visualisasi projek Capstone Data Analytics yang diberikan oleh Algoritma Academy. Seperti yang tertulis pada title, case yang diambil dan dibahas pada notebook ini adalah case Webscraping. \n",
    "\n",
    "## background\n",
    "\n",
    "Soal yang diambil pada case ini adalah tentang pergerakan harga kurs USD-IDR selama 6 bulan terakhir. Informasi tentang kurs didapatkan dari situs https://www.exchange-rates.org/exchange-rate-history/usd-idr, yang kemudian akan divisualisasikan dengan menggunakan plot sederhana. Informasi yang didapatkan dari visualisasi diharapkan dapat membantu memberikan insight kepada user mengenai kondisi ekonomi Indonesia pada saat ini, apakah sedang membaik atau justru memburuk?\n",
    "\n",
    "Informasi tentang kurs USD-IDR dapat dijadikan pengukuran kondisi ekonomi Indonesia dengan pertanyaan sebagai berikut: Seberapa banyak Rupiah yang bisa dibeli dengan $1? Semakin tinggi Rupiah yang bisa dibeli menandakan bahwa Rupiah sedang melemah, sedangkan jika tidak banyak maka menandakan Rupiah sedang menguat. Dari informasi tersebut, kita bisa melihat dua hal\n",
    "\n",
    "- Seberapa besar buying power Indonesia jika negara kita melakukan transaksi dengan USD?\n",
    "- Bagaimana kondisi inflasi di Indonesia?\n",
    "\n",
    "## Requesting the Data and Creating a BeautifulSoup\n",
    "\n",
    "Langkah pertama yang dapat kita lakukan untuk menarik informasi adalah dengan menggunakan fungsi `.get()` dari package requests, yang dimana kita cukup memasukkan link situs ke dalam fungsi"
   ]
  },
  {
   "cell_type": "code",
   "execution_count": 1,
   "metadata": {
    "ExecuteTime": {
     "end_time": "2020-01-13T05:12:23.275508Z",
     "start_time": "2020-01-13T05:12:20.009898Z"
    }
   },
   "outputs": [],
   "source": [
    "import requests\n",
    "\n",
    "url_get = requests.get('https://www.exchange-rates.org/history/IDR/USD/T')"
   ]
  },
  {
   "cell_type": "markdown",
   "metadata": {},
   "source": [
    "Setelah itu, kita perlu memastikan bahwa kita sudah mendapatkan situs yang ingin kita scrap. Caranya cukup dengan menggunakan fungsi `.content`, yang dimana fungsi tersebut menunjukkan komponen-komponen pada situs, contohnya informasi doctype yang berada pada situs. Pada kasus ini, doctype dari situs adalah HTML. Kita dapat memastikan informasi tersebut memang benar ada pada situs dengan melakukan inspect element pada situs."
   ]
  },
  {
   "cell_type": "code",
   "execution_count": 2,
   "metadata": {
    "ExecuteTime": {
     "end_time": "2020-01-13T05:12:23.290648Z",
     "start_time": "2020-01-13T05:12:23.277650Z"
    }
   },
   "outputs": [
    {
     "data": {
      "text/plain": [
       "b'!DOCTYPE html>\\r\\n<!--[if lt IE 9]>\\r\\n<html class=\"no-js ie8 oldie\" lang=\"en\" xml:lang=\\'en\\'>\\r\\n<![endif]-->\\r\\n<!--[if gt IE 8]><!--><html class=\"no-js\" lang=\"en\" xml:lang=\\'en\\'><!--<![endif]-->\\r\\n<head>\\r\\n<title>USD to IDR exchange rate history</title>\\r\\n<meta http-equiv=\"X-UA-Compatible\" content=\"IE=edge\">\\r\\n<meta name=\"viewport\" content=\"width=device-width, initial-scale=1, maximum-scale=5\">\\r\\n<meta charset=\"utf-8\" /><meta http-equiv=\"Content-Type\" content=\"text/html; charset=utf-8\" />\\r\\n<base href=\"http'"
      ]
     },
     "execution_count": 2,
     "metadata": {},
     "output_type": "execute_result"
    }
   ],
   "source": [
    "url_get.content[1:500]"
   ]
  },
  {
   "cell_type": "markdown",
   "metadata": {},
   "source": [
    "Setelah kita memastikan bahwa kita sudah melakukan scraping terhadap situs yang benar, kita dapat menggunakan fungsi `BeautifulSoup()` untuk mengubah dokumen HTML yang kita miliki saat ini menjadi objek bahasa Python, sehingga memungkinkan kita untuk mengolah data HTML dengan bahasa Python\n",
    "\n",
    "Penggunaan fungsi `BeautifulSoup()` dilakukan pada cell berikut:"
   ]
  },
  {
   "cell_type": "code",
   "execution_count": 3,
   "metadata": {
    "ExecuteTime": {
     "end_time": "2020-01-13T05:12:23.808122Z",
     "start_time": "2020-01-13T05:12:23.292610Z"
    }
   },
   "outputs": [],
   "source": [
    "from bs4 import BeautifulSoup \n",
    "\n",
    "soup = BeautifulSoup(url_get.content,\"html.parser\")"
   ]
  },
  {
   "cell_type": "markdown",
   "metadata": {},
   "source": [
    "## Finding the right key to scrap the data & Extracting the right information"
   ]
  },
  {
   "cell_type": "markdown",
   "metadata": {},
   "source": [
    "Setelah membuat HTML situs menjadi bisa diolah dengan Python, langkah selanjutnya adalah untuk mencari bagian dari dokumen HTML yang bisa kita tarik untuk membuat visualisasi. Pada situs tersebut terdapat tabel informasi yang menunjukkan tanggal dan harga kurs USD-IDR pada tanggal tersebut. Kita bisa memanfaatkan table tersebut untuk membentuk visualisasi kita.\n",
    "\n",
    "Melalui inspect element, ditemukan bahwa key yang mengandung informasi tentang isi tabel adalah \"tbody\". Kita dapat menggunakan fungsi `.find()` untuk menarik informasi tersebut. Hasil `.find` akan diassign kepada \"table\", yang kemudian akan dijalankan fungsi `prettify()`. Fungsi `prettify()` dapat digunakan untuk dua hal:\n",
    " - Sebagai konfirmasi mengenai apakah data yang kita inginkan berhasil di extract atau tidak.\n",
    " - Menunjukkan lokasi key untuk isi sebuah tabel. Pada kasus ini, berarti setiap tanggal dan harga memiliki key masing-masing. Informasi tanggal memiliki key \"a\" dengan atribut \"class\":\"w\". Informasi harga memiliki key \"span\" dengan atribut \"class\":\"w\""
   ]
  },
  {
   "cell_type": "code",
   "execution_count": 4,
   "metadata": {
    "ExecuteTime": {
     "end_time": "2020-01-13T05:12:23.878904Z",
     "start_time": "2020-01-13T05:12:23.854974Z"
    }
   },
   "outputs": [
    {
     "name": "stdout",
     "output_type": "stream",
     "text": [
      "tbody>\n",
      " <tr>\n",
      "  <td>\n",
      "   <a class=\"w\" href=\"/exchange-rate-history/usd-idr-2023-05-11\">\n",
      "    May 11, 2023\n",
      "   </a>\n",
      "   <a class=\"n\" href=\"/exchange-rate-history/usd-idr-2023-05-11\">\n",
      "    2023-5-11\n",
      "   </a>\n",
      "  </td>\n",
      "  <td>\n",
      "   <span class=\"w\">\n",
      "    <span class=\"nowrap\">\n",
      "     <span class=\"currencySymbol\">\n",
      "      $\n",
      "     </span>\n",
      "     1 =\n",
      "    </span>\n",
      "    <span class=\"nowrap\">\n",
      "     <span class=\"currencySymbol\">\n",
      "      Rp\n",
      "     </span>\n",
      "     14,776\n",
      "    </span>\n",
      "   </span>\n",
      "   <span class=\"n\">\n",
      "    <span class=\"nowrap\">\n",
      "     <span class=\"currencySymbol\">\n",
      "      $\n",
      "     </span>\n",
      "     1 =\n",
      "    </span>\n",
      "    <span class=\"nowrap\">\n",
      "     <span class=\"currencySymbol\">\n",
      "      Rp\n",
      "     </span>\n",
      "     14,776\n",
      "    </span>\n",
      "   </span>\n",
      "  </td>\n",
      " </tr>\n",
      " <tr class=\"odd\">\n",
      "  <td>\n",
      "   <a class=\"w\" href=\"/exchange-rate-history/usd-idr-2023-05-10\">\n",
      "    May 10, 2023\n",
      "   </a>\n",
      "   <a class=\"n\" href=\"/exchange-rate-history/usd-idr-2023-05-10\">\n",
      "    2023-5-10\n",
      "   </a>\n",
      "  </td>\n",
      "  <td>\n",
      "   <span class=\"w\">\n",
      "    <span class=\"nowrap\">\n",
      "     <span class=\"curre\n"
     ]
    }
   ],
   "source": [
    "table = soup.find(\"tbody\")\n",
    "print(table.prettify()[1:1000])"
   ]
  },
  {
   "cell_type": "markdown",
   "metadata": {},
   "source": [
    "Setelah kita mengindentifikasi key yang perlu kita gunakan. Kita perlu mengetahui dulu jumlah baris yang terdapat pada tabel kita. Jumlah baris tersebut akan digunakan pada proses pembentukan data mentah nanti."
   ]
  },
  {
   "cell_type": "code",
   "execution_count": 5,
   "metadata": {},
   "outputs": [
    {
     "data": {
      "text/plain": [
       "129"
      ]
     },
     "execution_count": 5,
     "metadata": {},
     "output_type": "execute_result"
    }
   ],
   "source": [
    "row = table.find_all(\"a\", attrs={\"class\":\"w\"})\n",
    "row_length = len(row)\n",
    "row_length"
   ]
  },
  {
   "cell_type": "markdown",
   "metadata": {},
   "source": [
    "Pada saat notebook ini dibuat, `row_length` menunjukkan angka 129. Angka yang dimunculkan oleh `row_length` akan menjadi indikasi mengenai seberapa banyak kita melakukan pengambilan data dari situs melalui proses looping. Looping bisa dilihat pada cell dibawah berikut, yang dimana hasil penarikan data oleh fungsi looping akan disimpan pada objek `temp`. "
   ]
  },
  {
   "cell_type": "code",
   "execution_count": 6,
   "metadata": {
    "ExecuteTime": {
     "end_time": "2020-01-13T05:12:24.008256Z",
     "start_time": "2020-01-13T05:12:23.980358Z"
    }
   },
   "outputs": [
    {
     "data": {
      "text/plain": [
       "[('May 11, 2023', '$1 = Rp14,776'),\n",
       " ('May 10, 2023', '$1 = Rp14,698'),\n",
       " ('May 9, 2023', '$1 = Rp14,776'),\n",
       " ('May 8, 2023', '$1 = Rp14,744'),\n",
       " ('May 5, 2023', '$1 = Rp14,675'),\n",
       " ('May 4, 2023', '$1 = Rp14,699'),\n",
       " ('May 3, 2023', '$1 = Rp14,680'),\n",
       " ('May 2, 2023', '$1 = Rp14,747'),\n",
       " ('May 1, 2023', '$1 = Rp14,677'),\n",
       " ('April 28, 2023', '$1 = Rp14,674'),\n",
       " ('April 27, 2023', '$1 = Rp14,691'),\n",
       " ('April 26, 2023', '$1 = Rp14,841'),\n",
       " ('April 25, 2023', '$1 = Rp14,940'),\n",
       " ('April 24, 2023', '$1 = Rp14,934'),\n",
       " ('April 21, 2023', '$1 = Rp14,936'),\n",
       " ('April 20, 2023', '$1 = Rp14,954'),\n",
       " ('April 19, 2023', '$1 = Rp14,995'),\n",
       " ('April 18, 2023', '$1 = Rp14,889'),\n",
       " ('April 17, 2023', '$1 = Rp14,850'),\n",
       " ('April 14, 2023', '$1 = Rp14,782'),\n",
       " ('April 13, 2023', '$1 = Rp14,722'),\n",
       " ('April 12, 2023', '$1 = Rp14,835'),\n",
       " ('April 11, 2023', '$1 = Rp14,915'),\n",
       " ('April 10, 2023', '$1 = Rp14,950'),\n",
       " ('April 7, 2023', '$1 = Rp14,941'),\n",
       " ('April 6, 2023', '$1 = Rp14,931'),\n",
       " ('April 5, 2023', '$1 = Rp14,960'),\n",
       " ('April 4, 2023', '$1 = Rp14,957'),\n",
       " ('April 3, 2023', '$1 = Rp14,922'),\n",
       " ('March 31, 2023', '$1 = Rp14,969'),\n",
       " ('March 30, 2023', '$1 = Rp15,024'),\n",
       " ('March 29, 2023', '$1 = Rp15,034'),\n",
       " ('March 28, 2023', '$1 = Rp15,060'),\n",
       " ('March 27, 2023', '$1 = Rp15,107'),\n",
       " ('March 24, 2023', '$1 = Rp15,165'),\n",
       " ('March 23, 2023', '$1 = Rp15,085'),\n",
       " ('March 22, 2023', '$1 = Rp15,253'),\n",
       " ('March 21, 2023', '$1 = Rp15,301'),\n",
       " ('March 20, 2023', '$1 = Rp15,343'),\n",
       " ('March 17, 2023', '$1 = Rp15,375'),\n",
       " ('March 16, 2023', '$1 = Rp15,429'),\n",
       " ('March 15, 2023', '$1 = Rp15,459'),\n",
       " ('March 14, 2023', '$1 = Rp15,380'),\n",
       " ('March 13, 2023', '$1 = Rp15,416'),\n",
       " ('March 10, 2023', '$1 = Rp15,503'),\n",
       " ('March 9, 2023', '$1 = Rp15,495'),\n",
       " ('March 8, 2023', '$1 = Rp15,449'),\n",
       " ('March 7, 2023', '$1 = Rp15,429'),\n",
       " ('March 6, 2023', '$1 = Rp15,354'),\n",
       " ('March 3, 2023', '$1 = Rp15,278'),\n",
       " ('March 2, 2023', '$1 = Rp15,322'),\n",
       " ('March 1, 2023', '$1 = Rp15,249'),\n",
       " ('February 28, 2023', '$1 = Rp15,241'),\n",
       " ('February 27, 2023', '$1 = Rp15,216'),\n",
       " ('February 24, 2023', '$1 = Rp15,265'),\n",
       " ('February 23, 2023', '$1 = Rp15,211'),\n",
       " ('February 22, 2023', '$1 = Rp15,197'),\n",
       " ('February 21, 2023', '$1 = Rp15,235'),\n",
       " ('February 20, 2023', '$1 = Rp15,168'),\n",
       " ('February 17, 2023', '$1 = Rp15,166'),\n",
       " ('February 16, 2023', '$1 = Rp15,144'),\n",
       " ('February 15, 2023', '$1 = Rp15,205'),\n",
       " ('February 14, 2023', '$1 = Rp15,186'),\n",
       " ('February 13, 2023', '$1 = Rp15,216'),\n",
       " ('February 10, 2023', '$1 = Rp15,188'),\n",
       " ('February 9, 2023', '$1 = Rp15,147'),\n",
       " ('February 8, 2023', '$1 = Rp15,133'),\n",
       " ('February 7, 2023', '$1 = Rp15,154'),\n",
       " ('February 6, 2023', '$1 = Rp15,198'),\n",
       " ('February 3, 2023', '$1 = Rp15,095'),\n",
       " ('February 2, 2023', '$1 = Rp14,907'),\n",
       " ('February 1, 2023', '$1 = Rp14,896'),\n",
       " ('January 31, 2023', '$1 = Rp15,002'),\n",
       " ('January 30, 2023', '$1 = Rp15,013'),\n",
       " ('January 27, 2023', '$1 = Rp14,973'),\n",
       " ('January 26, 2023', '$1 = Rp14,955'),\n",
       " ('January 25, 2023', '$1 = Rp14,940'),\n",
       " ('January 24, 2023', '$1 = Rp14,956'),\n",
       " ('January 23, 2023', '$1 = Rp15,026'),\n",
       " ('January 20, 2023', '$1 = Rp15,063'),\n",
       " ('January 19, 2023', '$1 = Rp15,154'),\n",
       " ('January 18, 2023', '$1 = Rp15,138'),\n",
       " ('January 17, 2023', '$1 = Rp15,180'),\n",
       " ('January 16, 2023', '$1 = Rp15,126'),\n",
       " ('January 13, 2023', '$1 = Rp15,115'),\n",
       " ('January 12, 2023', '$1 = Rp15,206'),\n",
       " ('January 11, 2023', '$1 = Rp15,432'),\n",
       " ('January 10, 2023', '$1 = Rp15,536'),\n",
       " ('January 9, 2023', '$1 = Rp15,596'),\n",
       " ('January 6, 2023', '$1 = Rp15,607'),\n",
       " ('January 5, 2023', '$1 = Rp15,635'),\n",
       " ('January 4, 2023', '$1 = Rp15,582'),\n",
       " ('January 3, 2023', '$1 = Rp15,594'),\n",
       " ('January 2, 2023', '$1 = Rp15,554'),\n",
       " ('December 30, 2022', '$1 = Rp15,534'),\n",
       " ('December 29, 2022', '$1 = Rp15,627'),\n",
       " ('December 28, 2022', '$1 = Rp15,789'),\n",
       " ('December 27, 2022', '$1 = Rp15,620'),\n",
       " ('December 26, 2022', '$1 = Rp15,621'),\n",
       " ('December 23, 2022', '$1 = Rp15,582'),\n",
       " ('December 22, 2022', '$1 = Rp15,574'),\n",
       " ('December 21, 2022', '$1 = Rp15,540'),\n",
       " ('December 20, 2022', '$1 = Rp15,564'),\n",
       " ('December 19, 2022', '$1 = Rp15,568'),\n",
       " ('December 16, 2022', '$1 = Rp15,616'),\n",
       " ('December 15, 2022', '$1 = Rp15,629'),\n",
       " ('December 14, 2022', '$1 = Rp15,543'),\n",
       " ('December 13, 2022', '$1 = Rp15,560'),\n",
       " ('December 12, 2022', '$1 = Rp15,676'),\n",
       " ('December 9, 2022', '$1 = Rp15,604'),\n",
       " ('December 8, 2022', '$1 = Rp15,594'),\n",
       " ('December 7, 2022', '$1 = Rp15,612'),\n",
       " ('December 6, 2022', '$1 = Rp15,625'),\n",
       " ('December 5, 2022', '$1 = Rp15,520'),\n",
       " ('December 2, 2022', '$1 = Rp15,376'),\n",
       " ('December 1, 2022', '$1 = Rp15,389'),\n",
       " ('November 30, 2022', '$1 = Rp15,633'),\n",
       " ('November 29, 2022', '$1 = Rp15,734'),\n",
       " ('November 28, 2022', '$1 = Rp15,743'),\n",
       " ('November 25, 2022', '$1 = Rp15,693'),\n",
       " ('November 24, 2022', '$1 = Rp15,647'),\n",
       " ('November 23, 2022', '$1 = Rp15,626'),\n",
       " ('November 22, 2022', '$1 = Rp15,664'),\n",
       " ('November 21, 2022', '$1 = Rp15,741'),\n",
       " ('November 18, 2022', '$1 = Rp15,641'),\n",
       " ('November 17, 2022', '$1 = Rp15,714'),\n",
       " ('November 16, 2022', '$1 = Rp15,639'),\n",
       " ('November 15, 2022', '$1 = Rp15,557'),\n",
       " ('November 14, 2022', '$1 = Rp15,554')]"
      ]
     },
     "execution_count": 6,
     "metadata": {},
     "output_type": "execute_result"
    }
   ],
   "source": [
    "temp = [] #tempat penyimpanan data yang ditarik\n",
    "\n",
    "for i in range(0, row_length):\n",
    "    \n",
    "    #Date\n",
    "    date = table.find_all(\"a\", attrs={\"class\":\"w\"})[i].text.strip() #untuk menghilangkan kemungkinan terjadinya spasi berlebih\n",
    "    \n",
    "    #Kurs USD\n",
    "    kurs = table.find_all(\"span\", attrs={\"class\":\"w\"})[i].text.strip()\n",
    "    \n",
    "    #pembentukan data mentah\n",
    "    temp.append((date,kurs))\n",
    "    \n",
    "temp "
   ]
  },
  {
   "cell_type": "markdown",
   "metadata": {},
   "source": [
    "Bila kita lihat hasil penarikan, data diurutkan berdasarkan tanggal paling akhir ke tanggal paling awal. Dalam pembentukan plot, kita ingin plot kita menunjukkan informasi secara kronologis. Urutan data dapat dibalik dengan menambahkan `[::-1]` pada objek `temp`."
   ]
  },
  {
   "cell_type": "code",
   "execution_count": 7,
   "metadata": {},
   "outputs": [
    {
     "data": {
      "text/plain": [
       "[('November 14, 2022', '$1 = Rp15,554'),\n",
       " ('November 15, 2022', '$1 = Rp15,557'),\n",
       " ('November 16, 2022', '$1 = Rp15,639'),\n",
       " ('November 17, 2022', '$1 = Rp15,714'),\n",
       " ('November 18, 2022', '$1 = Rp15,641'),\n",
       " ('November 21, 2022', '$1 = Rp15,741'),\n",
       " ('November 22, 2022', '$1 = Rp15,664'),\n",
       " ('November 23, 2022', '$1 = Rp15,626'),\n",
       " ('November 24, 2022', '$1 = Rp15,647'),\n",
       " ('November 25, 2022', '$1 = Rp15,693')]"
      ]
     },
     "execution_count": 7,
     "metadata": {},
     "output_type": "execute_result"
    }
   ],
   "source": [
    "temp=temp[::-1]\n",
    "temp[:10]"
   ]
  },
  {
   "cell_type": "markdown",
   "metadata": {},
   "source": [
    "## Creating data frame & Data wrangling"
   ]
  },
  {
   "cell_type": "markdown",
   "metadata": {},
   "source": [
    "Dengan tersimpannya data yang kita miliki, langkah selanjutnya adalah untuk membentuk dataframe dari objek `temp`. Pembentukan dataframe cukup dengan menggunakan pd.DataFrame dari package pandas. Data frame juga perlu kita beri nama pada kolom-kolomnya, karena data yang ditarik dari tabel di situs tidak termasuk nama kolom yang ada pada situs tersebut."
   ]
  },
  {
   "cell_type": "code",
   "execution_count": 8,
   "metadata": {
    "ExecuteTime": {
     "end_time": "2020-01-13T05:12:41.517372Z",
     "start_time": "2020-01-13T05:12:29.130015Z"
    }
   },
   "outputs": [
    {
     "data": {
      "text/html": [
       "<div>\n",
       "<style scoped>\n",
       "    .dataframe tbody tr th:only-of-type {\n",
       "        vertical-align: middle;\n",
       "    }\n",
       "\n",
       "    .dataframe tbody tr th {\n",
       "        vertical-align: top;\n",
       "    }\n",
       "\n",
       "    .dataframe thead th {\n",
       "        text-align: right;\n",
       "    }\n",
       "</style>\n",
       "<table border=\"1\" class=\"dataframe\">\n",
       "  <thead>\n",
       "    <tr style=\"text-align: right;\">\n",
       "      <th></th>\n",
       "      <th>Tanggal</th>\n",
       "      <th>Kurs USD-IDR</th>\n",
       "    </tr>\n",
       "  </thead>\n",
       "  <tbody>\n",
       "    <tr>\n",
       "      <th>0</th>\n",
       "      <td>November 14, 2022</td>\n",
       "      <td>$1 = Rp15,554</td>\n",
       "    </tr>\n",
       "    <tr>\n",
       "      <th>1</th>\n",
       "      <td>November 15, 2022</td>\n",
       "      <td>$1 = Rp15,557</td>\n",
       "    </tr>\n",
       "    <tr>\n",
       "      <th>2</th>\n",
       "      <td>November 16, 2022</td>\n",
       "      <td>$1 = Rp15,639</td>\n",
       "    </tr>\n",
       "    <tr>\n",
       "      <th>3</th>\n",
       "      <td>November 17, 2022</td>\n",
       "      <td>$1 = Rp15,714</td>\n",
       "    </tr>\n",
       "    <tr>\n",
       "      <th>4</th>\n",
       "      <td>November 18, 2022</td>\n",
       "      <td>$1 = Rp15,641</td>\n",
       "    </tr>\n",
       "  </tbody>\n",
       "</table>\n",
       "</div>"
      ],
      "text/plain": [
       "             Tanggal   Kurs USD-IDR\n",
       "0  November 14, 2022  $1 = Rp15,554\n",
       "1  November 15, 2022  $1 = Rp15,557\n",
       "2  November 16, 2022  $1 = Rp15,639\n",
       "3  November 17, 2022  $1 = Rp15,714\n",
       "4  November 18, 2022  $1 = Rp15,641"
      ]
     },
     "execution_count": 8,
     "metadata": {},
     "output_type": "execute_result"
    }
   ],
   "source": [
    "import pandas as pd\n",
    "\n",
    "df = pd.DataFrame(temp, columns = (\"Tanggal\",\"Kurs USD-IDR\"))\n",
    "df.head()"
   ]
  },
  {
   "cell_type": "code",
   "execution_count": 9,
   "metadata": {},
   "outputs": [
    {
     "name": "stdout",
     "output_type": "stream",
     "text": [
      "<class 'pandas.core.frame.DataFrame'>\n",
      "RangeIndex: 129 entries, 0 to 128\n",
      "Data columns (total 2 columns):\n",
      " #   Column        Non-Null Count  Dtype \n",
      "---  ------        --------------  ----- \n",
      " 0   Tanggal       129 non-null    object\n",
      " 1   Kurs USD-IDR  129 non-null    object\n",
      "dtypes: object(2)\n",
      "memory usage: 2.1+ KB\n"
     ]
    }
   ],
   "source": [
    "df.info()"
   ]
  },
  {
   "cell_type": "markdown",
   "metadata": {},
   "source": [
    "Ada beberapa hal yang salah pada dataframe diatas:\n",
    "- Kolom Tanggal dan Kurs USD-IDR memiliki tipe data object. Tanggal seharusnya memiliki format datetime64[ns], dan Kurs USD-IDR seharusnnya memilikki tipe data int64 atau float64. \n",
    "- Kolom Tanggal tertulis dengan urutan yang salah, yang dimana lebih seharusnya dituliskan dengan urutan Tahun-Bulan-Tanggal\n",
    "- Kolom Kurs USD-IDR memiliki penulisan string yang tidak diperlukan yaitu \"$1=\" dan \"Rp\" dan memiliki pemisah dalam bentuk \",\"\n",
    "- Kolom Tanggal perlu dijadikan indeks untuk mempermudah proses visualisasi\n",
    "\n",
    "Cell berikut akan digunakan untuk melakukan perbaikan data yang salah. Pada kasus ini, penulis merasa bahwa kolom \"Kurs USD-IDR\" lebih cocok untuk dikonversikan menjadi \"int64\" karena semua angka yang ditampilkan adalah angka bulat."
   ]
  },
  {
   "cell_type": "code",
   "execution_count": 10,
   "metadata": {
    "ExecuteTime": {
     "end_time": "2020-01-13T05:12:59.165559Z",
     "start_time": "2020-01-13T05:12:58.910012Z"
    }
   },
   "outputs": [
    {
     "data": {
      "text/html": [
       "<div>\n",
       "<style scoped>\n",
       "    .dataframe tbody tr th:only-of-type {\n",
       "        vertical-align: middle;\n",
       "    }\n",
       "\n",
       "    .dataframe tbody tr th {\n",
       "        vertical-align: top;\n",
       "    }\n",
       "\n",
       "    .dataframe thead th {\n",
       "        text-align: right;\n",
       "    }\n",
       "</style>\n",
       "<table border=\"1\" class=\"dataframe\">\n",
       "  <thead>\n",
       "    <tr style=\"text-align: right;\">\n",
       "      <th></th>\n",
       "      <th>Tanggal</th>\n",
       "      <th>Kurs USD-IDR</th>\n",
       "    </tr>\n",
       "  </thead>\n",
       "  <tbody>\n",
       "    <tr>\n",
       "      <th>0</th>\n",
       "      <td>2022-11-14</td>\n",
       "      <td>15554</td>\n",
       "    </tr>\n",
       "    <tr>\n",
       "      <th>1</th>\n",
       "      <td>2022-11-15</td>\n",
       "      <td>15557</td>\n",
       "    </tr>\n",
       "    <tr>\n",
       "      <th>2</th>\n",
       "      <td>2022-11-16</td>\n",
       "      <td>15639</td>\n",
       "    </tr>\n",
       "    <tr>\n",
       "      <th>3</th>\n",
       "      <td>2022-11-17</td>\n",
       "      <td>15714</td>\n",
       "    </tr>\n",
       "    <tr>\n",
       "      <th>4</th>\n",
       "      <td>2022-11-18</td>\n",
       "      <td>15641</td>\n",
       "    </tr>\n",
       "  </tbody>\n",
       "</table>\n",
       "</div>"
      ],
      "text/plain": [
       "     Tanggal  Kurs USD-IDR\n",
       "0 2022-11-14         15554\n",
       "1 2022-11-15         15557\n",
       "2 2022-11-16         15639\n",
       "3 2022-11-17         15714\n",
       "4 2022-11-18         15641"
      ]
     },
     "execution_count": 10,
     "metadata": {},
     "output_type": "execute_result"
    }
   ],
   "source": [
    "df[\"Tanggal\"]=pd.to_datetime(df[\"Tanggal\"], format=\"%B %d, %Y\") #%B untuk konversi bulan dengan format nama lengkap, %d untuk konversi hari, %Y untuk konversi tahun lengkap\n",
    "df[\"Kurs USD-IDR\"]=df[\"Kurs USD-IDR\"].str.replace(\"$1 =\",\"\").str.replace(\"Rp\",\"\").str.replace(\",\",\"\")\n",
    "df[\"Kurs USD-IDR\"]=df[\"Kurs USD-IDR\"].astype(\"int64\")\n",
    "df.head()"
   ]
  },
  {
   "cell_type": "markdown",
   "metadata": {},
   "source": [
    "Sebagian besar perbaikan sudah dilakukan. Sebelum mengubah index tabel, mari kita pastikan bahwa tipe data untuk setiap kolom sudah sesuai."
   ]
  },
  {
   "cell_type": "code",
   "execution_count": 11,
   "metadata": {},
   "outputs": [
    {
     "name": "stdout",
     "output_type": "stream",
     "text": [
      "<class 'pandas.core.frame.DataFrame'>\n",
      "RangeIndex: 129 entries, 0 to 128\n",
      "Data columns (total 2 columns):\n",
      " #   Column        Non-Null Count  Dtype         \n",
      "---  ------        --------------  -----         \n",
      " 0   Tanggal       129 non-null    datetime64[ns]\n",
      " 1   Kurs USD-IDR  129 non-null    int64         \n",
      "dtypes: datetime64[ns](1), int64(1)\n",
      "memory usage: 2.1 KB\n"
     ]
    }
   ],
   "source": [
    "df.info()"
   ]
  },
  {
   "cell_type": "markdown",
   "metadata": {},
   "source": [
    "Tipe data sudah sesuai, maka hal yang perlu dilakukan sekarang adalah untuk melakukan perubahan kolom \"Tanggal\" menjadi index. Hal tersebut dapat dilakukan dengan menggunakan fungsi `set_index()` dan memasukkan nama kolom yang ingin kita ubah jadi index."
   ]
  },
  {
   "cell_type": "code",
   "execution_count": 12,
   "metadata": {},
   "outputs": [
    {
     "data": {
      "text/html": [
       "<div>\n",
       "<style scoped>\n",
       "    .dataframe tbody tr th:only-of-type {\n",
       "        vertical-align: middle;\n",
       "    }\n",
       "\n",
       "    .dataframe tbody tr th {\n",
       "        vertical-align: top;\n",
       "    }\n",
       "\n",
       "    .dataframe thead th {\n",
       "        text-align: right;\n",
       "    }\n",
       "</style>\n",
       "<table border=\"1\" class=\"dataframe\">\n",
       "  <thead>\n",
       "    <tr style=\"text-align: right;\">\n",
       "      <th></th>\n",
       "      <th>Kurs USD-IDR</th>\n",
       "    </tr>\n",
       "    <tr>\n",
       "      <th>Tanggal</th>\n",
       "      <th></th>\n",
       "    </tr>\n",
       "  </thead>\n",
       "  <tbody>\n",
       "    <tr>\n",
       "      <th>2022-11-14</th>\n",
       "      <td>15554</td>\n",
       "    </tr>\n",
       "    <tr>\n",
       "      <th>2022-11-15</th>\n",
       "      <td>15557</td>\n",
       "    </tr>\n",
       "    <tr>\n",
       "      <th>2022-11-16</th>\n",
       "      <td>15639</td>\n",
       "    </tr>\n",
       "    <tr>\n",
       "      <th>2022-11-17</th>\n",
       "      <td>15714</td>\n",
       "    </tr>\n",
       "    <tr>\n",
       "      <th>2022-11-18</th>\n",
       "      <td>15641</td>\n",
       "    </tr>\n",
       "  </tbody>\n",
       "</table>\n",
       "</div>"
      ],
      "text/plain": [
       "            Kurs USD-IDR\n",
       "Tanggal                 \n",
       "2022-11-14         15554\n",
       "2022-11-15         15557\n",
       "2022-11-16         15639\n",
       "2022-11-17         15714\n",
       "2022-11-18         15641"
      ]
     },
     "execution_count": 12,
     "metadata": {},
     "output_type": "execute_result"
    }
   ],
   "source": [
    "df=df.set_index(\"Tanggal\")\n",
    "df.head()"
   ]
  },
  {
   "cell_type": "markdown",
   "metadata": {},
   "source": [
    "Dengan begitu, kita sudah memiliki dataframe yang siap untuk divisualisasikan. Berikut adalah ringkasan mengenai langkah-langkah apa saja yang diambil dalam proses wrangling\n",
    "1. Hasil scraping diubah menjadi dataframe\n",
    "2. Mengkonfirmasi apakah tipe data pada setiap kolom sudah benar atau belum\n",
    "3. Melakukan pengubahan pada kolom \"Tanggal\" dari tipe data \"object\" menjadi \"datetime64[ns]\"\n",
    "4. Melakukan pengubahan pada kolom \"Kurs USD-IDR\" dari tipe data \"object\" menjadi \"int64\"\n",
    "5. Menjadikan kolom \"Tanggal\" menjadi index"
   ]
  },
  {
   "cell_type": "markdown",
   "metadata": {},
   "source": [
    "### Implementing your webscrapping to the flask dashboard\n",
    "\n",
    "- Copy paste all of your web scrapping process to the desired position on the `app.py`\n",
    "- Changing the title of the dasboard at `index.html`"
   ]
  },
  {
   "cell_type": "markdown",
   "metadata": {},
   "source": [
    "## Finishing This Notebook with Your Analysis and Conclusion\n",
    "\n",
    "Cell berikut adalah visualisasi dari dataframe yang telah kita buat."
   ]
  },
  {
   "cell_type": "code",
   "execution_count": 23,
   "metadata": {
    "ExecuteTime": {
     "end_time": "2020-01-13T05:20:56.208237Z",
     "start_time": "2020-01-13T05:20:56.076043Z"
    }
   },
   "outputs": [
    {
     "data": {
      "image/png": "[encoded data removed]",
      "text/plain": [
       "<Figure size 640x480 with 1 Axes>"
      ]
     },
     "metadata": {},
     "output_type": "display_data"
    }
   ],
   "source": [
    "df.plot(ylabel = \"Harga USD Dalam Rupiah\", legend = False, title = \"Pergerakkan Kurs USD/IDR Selama 6 Bulan Terakhir\");"
   ]
  },
  {
   "cell_type": "markdown",
   "metadata": {},
   "source": [
    "Bila kita lihat dari hasil visualisasi, pada saat penulisan ini (Mei 2023) bisa dilihat bahwa harga USD sedang mengalami penurunan yang cukup signifikan. Ini menandakan bahwa Indonesia sedang memiliki peningkatan pada buying power mereka jika mereka bertransaksi dengan Amerika Serikat. Selain itu dengan meningkatnya nilai Rupiah, ini menunjukkan bahwa Indonesia tingkat inflasi di Indonesia sedang membaik pada saat ini.\n",
    "\n",
    "Kita juga bisa melihat bahwa terdapat semacam pola yang ditunjukkan oleh plot, yang dimana terdapat kecenderungan untuk harga USD mengalami peningkatan yang cukup besar untuk kemudian mengalami mengalami penurunan yang jauh lebih besar daripada tingkat kenaikannya. Oleh karena itu, kita bisa saja membuat perkiraan bahwa harga USD akan mengalami peningkatan yang cukup besar pada beberapa waktu kedepan.\n",
    "\n",
    "Membicarakan mengenai penurunan besar, terjadi dua titik waktu terjadinya penurunan harga USD: Januari 2023 dan Maret 2023. Jika melihat ke dua bulan tersebut, terdapat beberapa kemungkinan yang bisa membantu menjelaskan penurunan tersebut:\n",
    "\n",
    "- Untuk penurunan Januari, Amerika Serikat dilaporkan mengalami tingkat inflasi yang sangat tinggi pada bulan tersebut. Lebih spesifiknya, inflasi di Amerika Serikat meningkat sebesar 6.4% jika dibandingkan pada bulan yang sama di tahun sebelumnya. Kenaikkan inflasi tersebut lebih tinggi daripada apa yang diharapkan oleh The Fed.\n",
    "\n",
    "- Penurunan pada bulan Maret kemungkinan besar disebabkan oleh jatuhnya 3 bank besar di Amerika Serikat seperti Sillicone Valley Bank, Silvergate, dan Credit Suisse. Kejatuhan Sillcone Valley Bank dan Silvergate disebabkan oleh hilangnya likuiditas secara tiba-tiba akibat dari kesalahan proyeksi pergerakan suku bunga. The Fed pada saat membuat peningkatan tinggi terhadap suku bunga sebagai cara untuk memerangi inflasi. Sedangkan Credit Suisse gagal karena pada tahun-tahun belakangan bank tersebut sering terlibat dalam skandal-skandal seperti korupsi, pencucian uang, penghidaran pajak, dan sebagainya."
   ]
  },
  {
   "cell_type": "markdown",
   "metadata": {},
   "source": [
    "### Implement it at the webapps\n",
    "\n",
    "- You can create additional analysis from the data.\n",
    "- Implement it to the dashboard with at `app.py` dan `index.html`."
   ]
  }
 ],
 "metadata": {
  "kernelspec": {
   "display_name": "capstone_da",
   "language": "python",
   "name": "capstone_da"
  },
  "language_info": {
   "codemirror_mode": {
    "name": "ipython",
    "version": 3
   },
   "file_extension": ".py",
   "mimetype": "text/x-python",
   "name": "python",
   "nbconvert_exporter": "python",
   "pygments_lexer": "ipython3",
   "version": "3.10.9"
  }
 },
 "nbformat": 4,
 "nbformat_minor": 2
}
